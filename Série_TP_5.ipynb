{
  "nbformat": 4,
  "nbformat_minor": 0,
  "metadata": {
    "colab": {
      "name": "Série TP 5",
      "provenance": [],
      "authorship_tag": "ABX9TyO7oplsDqsfF3YyI61Hlryx",
      "include_colab_link": true
    },
    "kernelspec": {
      "name": "python3",
      "display_name": "Python 3"
    }
  },
  "cells": [
    {
      "cell_type": "markdown",
      "metadata": {
        "id": "view-in-github",
        "colab_type": "text"
      },
      "source": [
        "<a href=\"https://colab.research.google.com/github/GitTeaching/TP-NLP-using-Python/blob/master/S%C3%A9rie_TP_5.ipynb\" target=\"_parent\"><img src=\"https://colab.research.google.com/assets/colab-badge.svg\" alt=\"Open In Colab\"/></a>"
      ]
    },
    {
      "cell_type": "markdown",
      "metadata": {
        "id": "qxLiUv2SqCEh",
        "colab_type": "text"
      },
      "source": [
        "### Générer des phrases de nombres\n",
        "On veut générer une phrase numérique à partir d’un nombre en chiffre :\n",
        "125 => cent vingt cinq.\n",
        "- Ecrire un programme qui permet de convertir un nombre <999 en lettres.\n"
      ]
    },
    {
      "cell_type": "code",
      "metadata": {
        "id": "qrnSGsqii8TV",
        "colab_type": "code",
        "colab": {
          "base_uri": "https://localhost:8080/",
          "height": 51
        },
        "outputId": "6177c804-3960-463c-fd43-36400fbf58ad"
      },
      "source": [
        "def num_vers_mot(n):\n",
        "    mot = \"\"\n",
        "\n",
        "    b1 = n % 10\n",
        "    b2 = (n % 100)//10\n",
        "    b3 = (n % 1000)//100\n",
        "    #print(b1, b2, b3) \n",
        "         \n",
        "    if n == 0:\n",
        "        return 'ZERO' \n",
        "    \n",
        "    if n > 999:\n",
        "      return None\n",
        "\n",
        "    if b2 == 0:\n",
        "        mot = ones[b1]\n",
        "    elif b2 == 1:\n",
        "        mot = tens[b1] \n",
        "    elif b2 > 1:\n",
        "        mot = twenties[b2] + ones[b1] +  mot\n",
        "    \n",
        "    if b3 == 1:\n",
        "        mot = \"CENT \" + mot\n",
        "    elif b3 > 0:\n",
        "        mot = ones[b3] + \"CENT \" + mot\n",
        "\n",
        "    return mot\n",
        "\n",
        "ones = [\"\",\"UN \",\"DEUX \",\"TROIS \",\"QUATRE \",\"CINQ \",\"SIX \",\"SEPT \",\"HUIT \",\"NEUF \"]\n",
        "tens = [\"DIX \",\"ONZE \",\"DOUZE \",\"TREIZE \",\"QUATORZE \",\"QUINZE \",\"SEIZE \",\"DIX SEPT \",\"DIX HUIT \",\"DIX NEUF \"]\n",
        "twenties = [\"\",\"DIX \",\"VINGT \",\"TRENTE \",\"QUARANTE \",\"CINQUANTE \",\"SOIXANTE \",\"SOIXANTE \",\"QUATRE VINGT \",\"QUATRE VINGT \"]\n",
        "\n",
        "n = 895\n",
        "print(n)\n",
        "print(num_vers_mot(n))"
      ],
      "execution_count": null,
      "outputs": [
        {
          "output_type": "stream",
          "text": [
            "895\n",
            "HUIT CENT QUATRE VINGT CINQ \n"
          ],
          "name": "stdout"
        }
      ]
    },
    {
      "cell_type": "code",
      "metadata": {
        "id": "BGiCbQobc0Ut",
        "colab_type": "code",
        "colab": {
          "base_uri": "https://localhost:8080/",
          "height": 51
        },
        "outputId": "9eacc0c5-a113-4998-d100-75f07aa2e5db"
      },
      "source": [
        "# Version anglaise\n",
        "\n",
        "def num_vers_mot_eng(n):\n",
        "    mot = \"\"\n",
        "\n",
        "    b1 = n % 10\n",
        "    b2 = (n % 100)//10\n",
        "    b3 = (n % 1000)//100\n",
        "    #print(b1, b2, b3) \n",
        "         \n",
        "    if n == 0:\n",
        "        return 'ZERO' \n",
        "    \n",
        "    if n > 999:\n",
        "      return None\n",
        "\n",
        "    if b2 == 0:\n",
        "        mot = ones[b1]\n",
        "    elif b2 == 1:\n",
        "        mot = tens[b1] \n",
        "    elif b2 > 1:\n",
        "        mot = twenties[b2] + ones[b1] +  mot\n",
        "    \n",
        "    if b3 > 0:\n",
        "        mot = ones[b3] + \"hundred and \" + mot\n",
        "\n",
        "    return mot\n",
        "\n",
        "ones = [\"\", \"one \",\"two \",\"three \",\"four \", \"five \", \"six \",\"seven \",\"eight \",\"nine \"]\n",
        "tens = [\"ten \",\"eleven \",\"twelve \",\"thirteen \", \"fourteen \", \"fifteen \",\"sixteen \",\"seventeen \",\"eighteen \",\"nineteen \"]\n",
        "twenties = [\"\",\"\",\"twenty \",\"thirty \",\"forty \", \"fifty \",\"sixty \",\"seventy \",\"eighty \",\"ninety \"]\n",
        "\n",
        "n = 158\n",
        "print(n)\n",
        "print(num_vers_mot_eng(n))"
      ],
      "execution_count": null,
      "outputs": [
        {
          "output_type": "stream",
          "text": [
            "158\n",
            "one hundred and fifty eight \n"
          ],
          "name": "stdout"
        }
      ]
    },
    {
      "cell_type": "code",
      "metadata": {
        "id": "DA9D1_2KBx2m",
        "colab_type": "code",
        "colab": {
          "base_uri": "https://localhost:8080/",
          "height": 35
        },
        "outputId": "5909c1fd-8ba9-4e13-dc3e-a03b2772284c"
      },
      "source": [
        "# En utilisant la librairie inflect - Anglais\n",
        "import inflect\n",
        "p = inflect.engine()\n",
        "p.number_to_words(32)"
      ],
      "execution_count": null,
      "outputs": [
        {
          "output_type": "execute_result",
          "data": {
            "application/vnd.google.colaboratory.intrinsic+json": {
              "type": "string"
            },
            "text/plain": [
              "'thirty-two'"
            ]
          },
          "metadata": {
            "tags": []
          },
          "execution_count": 3
        }
      ]
    }
  ]
}