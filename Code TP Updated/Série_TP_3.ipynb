{
  "nbformat": 4,
  "nbformat_minor": 0,
  "metadata": {
    "colab": {
      "name": "Série TP 3.ipynb",
      "provenance": [],
      "collapsed_sections": []
    },
    "kernelspec": {
      "name": "python3",
      "display_name": "Python 3"
    },
    "language_info": {
      "name": "python"
    }
  },
  "cells": [
    {
      "cell_type": "markdown",
      "metadata": {
        "id": "G8vQKUh-pjdJ"
      },
      "source": [
        "## **Analyse Lexicale - PreProcessing - Stemming et Lemmatisation avec NLTK.**"
      ]
    },
    {
      "cell_type": "markdown",
      "metadata": {
        "id": "g5JTPS0qrPZZ"
      },
      "source": [
        "### **Importer les librairies  modules**"
      ]
    },
    {
      "cell_type": "code",
      "metadata": {
        "id": "09Egu-FpMTD0"
      },
      "source": [
        "# How to install and import nltk\n",
        "# In terminal or prompt:\n",
        "# pip install nltk\n",
        "import nltk\n",
        "\n",
        "# importing tokenization \n",
        "from nltk.tokenize import word_tokenize\n",
        "from nltk.tokenize import RegexpTokenizer\n",
        "\n",
        "# importing the stopwords\n",
        "from nltk.corpus import stopwords\n",
        "\n",
        "# importing Porter and Lancaster stemmers from nltk\n",
        "from nltk.stem import PorterStemmer, LancasterStemmer\n",
        "\n",
        "# importing WordNetLemmatizer\n",
        "from nltk.stem import WordNetLemmatizer"
      ],
      "execution_count": 1,
      "outputs": []
    },
    {
      "cell_type": "markdown",
      "metadata": {
        "id": "EGOdsCIqp4K9"
      },
      "source": [
        "### **Stemming** - Porter and Lancaster"
      ]
    },
    {
      "cell_type": "code",
      "metadata": {
        "colab": {
          "base_uri": "https://localhost:8080/"
        },
        "id": "iVmHgw4GMb7G",
        "outputId": "f872c0cc-9307-4a19-a4cb-0f872e0563be"
      },
      "source": [
        "# LancasterStemmer is simple, but heavy stemming due to iterations and over-stemming may occur. \n",
        "# Over-stemming causes the stems to be not linguistic, or they may have no meaning. \n",
        "# LancasterStemmer produces an even shorter stem than porter because of iterations and over-stemming is occurred.\n",
        "\n",
        "# create an object of class PorterStemmer and LancasterStemmer\n",
        "porter = PorterStemmer()\n",
        "lancaster = LancasterStemmer()\n",
        "\n",
        "# - Stemming a word - PorterStemmer\n",
        "print(\"- Porter Stemmer\")\n",
        "print(porter.stem(\"cats\"))\n",
        "print(porter.stem(\"trouble\"))\n",
        "print(porter.stem(\"troubling\"))\n",
        "print(porter.stem(\"troubled\"))\n",
        "\n",
        "# - Stemming a word - LancasterStemmer \n",
        "print(\"- Lancaster Stemmer\")\n",
        "print(lancaster.stem(\"cats\"))\n",
        "print(lancaster.stem(\"trouble\"))\n",
        "print(lancaster.stem(\"troubling\"))\n",
        "print(lancaster.stem(\"troubled\"))"
      ],
      "execution_count": 2,
      "outputs": [
        {
          "output_type": "stream",
          "text": [
            "- Porter Stemmer\n",
            "cat\n",
            "troubl\n",
            "troubl\n",
            "troubl\n",
            "- Lancaster Stemmer\n",
            "cat\n",
            "troubl\n",
            "troubl\n",
            "troubl\n"
          ],
          "name": "stdout"
        }
      ]
    },
    {
      "cell_type": "code",
      "metadata": {
        "colab": {
          "base_uri": "https://localhost:8080/"
        },
        "id": "64YHov0jMkST",
        "outputId": "5a7a991f-96ae-44cb-b89e-a065cbd8d59d"
      },
      "source": [
        "# - Stemming a list of words\n",
        "word_list = [\"friend\", \"friendship\", \"friends\", \"friendships\",\"stabil\",\"destabilize\",\"misunderstanding\",\"railroad\",\"moonlight\",\"football\"]\n",
        "print(\"{0:20}{1:20}{2:20}\".format(\"Word\",\"Porter Stemmer\",\"lancaster Stemmer\"))\n",
        "for word in word_list:\n",
        "    print(\"{0:20}{1:20}{2:20}\".format(word, porter.stem(word), lancaster.stem(word)))"
      ],
      "execution_count": 3,
      "outputs": [
        {
          "output_type": "stream",
          "text": [
            "Word                Porter Stemmer      lancaster Stemmer   \n",
            "friend              friend              friend              \n",
            "friendship          friendship          friend              \n",
            "friends             friend              friend              \n",
            "friendships         friendship          friend              \n",
            "stabil              stabil              stabl               \n",
            "destabilize         destabil            dest                \n",
            "misunderstanding    misunderstand       misunderstand       \n",
            "railroad            railroad            railroad            \n",
            "moonlight           moonlight           moonlight           \n",
            "football            footbal             footbal             \n"
          ],
          "name": "stdout"
        }
      ]
    },
    {
      "cell_type": "code",
      "metadata": {
        "colab": {
          "base_uri": "https://localhost:8080/",
          "height": 35
        },
        "id": "6gIW4EB1MrLK",
        "outputId": "aca48200-cad8-49b3-98b4-66ba1bcde79b"
      },
      "source": [
        "# - Stemming a sentence without tokenization\n",
        "sentence = \"Pythoners are very intelligent, and work very pythonly and now they are pythoning their way to success.\"\n",
        "porter.stem(sentence)"
      ],
      "execution_count": 4,
      "outputs": [
        {
          "output_type": "execute_result",
          "data": {
            "application/vnd.google.colaboratory.intrinsic+json": {
              "type": "string"
            },
            "text/plain": [
              "'pythoners are very intelligent, and work very pythonly and now they are pythoning their way to success.'"
            ]
          },
          "metadata": {
            "tags": []
          },
          "execution_count": 4
        }
      ]
    },
    {
      "cell_type": "code",
      "metadata": {
        "colab": {
          "base_uri": "https://localhost:8080/"
        },
        "id": "StUuWlPgMwyE",
        "outputId": "9e0cd42f-d135-45b0-f23f-d9da2ac68622"
      },
      "source": [
        "# - Stemming a sentence with word tokenization (punctuations are keeped with word_tokenizer)\n",
        "\n",
        "nltk.download('punkt')\n",
        "\n",
        "sentence = \"Pythoners are very intelligent, and work very pythonly and now they are pythoning their way to success.\"\n",
        "\n",
        "def stemSentence(sentence):\n",
        "\t# Tokenization\n",
        "    token_words = word_tokenize(sentence)\n",
        "    print('Tokens:', token_words)\n",
        "    # Stemming\n",
        "    stem_sentence = []\n",
        "    for word in token_words:\n",
        "        stem_sentence.append(porter.stem(word))\n",
        "        stem_sentence.append(\" \")\n",
        "    return \"\".join(stem_sentence)\n",
        "    \n",
        "stems = stemSentence(sentence)\n",
        "print('Stems: ', stems)"
      ],
      "execution_count": 5,
      "outputs": [
        {
          "output_type": "stream",
          "text": [
            "[nltk_data] Downloading package punkt to /root/nltk_data...\n",
            "[nltk_data]   Package punkt is already up-to-date!\n",
            "Tokens: ['Pythoners', 'are', 'very', 'intelligent', ',', 'and', 'work', 'very', 'pythonly', 'and', 'now', 'they', 'are', 'pythoning', 'their', 'way', 'to', 'success', '.']\n",
            "Stems:  python are veri intellig , and work veri pythonli and now they are python their way to success . \n"
          ],
          "name": "stdout"
        }
      ]
    },
    {
      "cell_type": "code",
      "metadata": {
        "colab": {
          "base_uri": "https://localhost:8080/"
        },
        "id": "-brQIhacNnJS",
        "outputId": "4321803e-2bf3-45ec-b6b1-e79a21592096"
      },
      "source": [
        "# - Stemming a sentence with tokenization, without stopwords\n",
        "\n",
        "# downloading stopwords from nltk\n",
        "nltk.download('stopwords')\n",
        "\n",
        "# assigning the english stop-words to the sw list\n",
        "sw = stopwords.words('english')\n",
        "\n",
        "sentence = \"Pythoners are very intelligent, and work very pythonly and now they are pythoning their way to success.\"\n",
        "\n",
        "def cleanStemSentence(sentence):\n",
        "    token_words = nltk.word_tokenize(sentence)\n",
        "    # eliminate the stop words from the tokens\n",
        "    clean_tokens = [token for token in token_words if token not in sw]\n",
        "    print('Tokens:', clean_tokens)\n",
        "    stem_sentence = []\n",
        "    for word in clean_tokens:\n",
        "        stem_sentence.append(porter.stem(word))\n",
        "        stem_sentence.append(\" \")\n",
        "    return \"\".join(stem_sentence)\n",
        "\n",
        "stems = cleanStemSentence(sentence)\n",
        "print('Stems: ', stems)"
      ],
      "execution_count": 6,
      "outputs": [
        {
          "output_type": "stream",
          "text": [
            "[nltk_data] Downloading package stopwords to /root/nltk_data...\n",
            "[nltk_data]   Package stopwords is already up-to-date!\n",
            "Tokens: ['Pythoners', 'intelligent', ',', 'work', 'pythonly', 'pythoning', 'way', 'success', '.']\n",
            "Stems:  python intellig , work pythonli python way success . \n"
          ],
          "name": "stdout"
        }
      ]
    },
    {
      "cell_type": "code",
      "metadata": {
        "colab": {
          "base_uri": "https://localhost:8080/"
        },
        "id": "elytVWh2X9nv",
        "outputId": "059cb0a9-7cca-495f-a6e3-2f130ae67d54"
      },
      "source": [
        "# - Stemming a sentence with word tokenization (remove punctuations with RegexpTokenizer)\n",
        "\n",
        "tokenizer = RegexpTokenizer(r'\\w+')\n",
        "\n",
        "sentence = \"Pythoners are very intelligent, and work very pythonly and now they are pythoning their way to success.\"\n",
        "\n",
        "def stemSentence(sentence):\n",
        "\t# Tokenization\n",
        "    token_words = tokenizer.tokenize(sentence)\n",
        "    print('Tokens:', token_words)\n",
        "    # Stemming\n",
        "    stem_sentence = []\n",
        "    for word in token_words:\n",
        "        stem_sentence.append(porter.stem(word))\n",
        "        stem_sentence.append(\" \")\n",
        "    return \"\".join(stem_sentence)\n",
        "    \n",
        "stems = stemSentence(sentence)\n",
        "print('Stems: ', stems)"
      ],
      "execution_count": 7,
      "outputs": [
        {
          "output_type": "stream",
          "text": [
            "Tokens: ['Pythoners', 'are', 'very', 'intelligent', 'and', 'work', 'very', 'pythonly', 'and', 'now', 'they', 'are', 'pythoning', 'their', 'way', 'to', 'success']\n",
            "Stems:  python are veri intellig and work veri pythonli and now they are python their way to success \n"
          ],
          "name": "stdout"
        }
      ]
    },
    {
      "cell_type": "code",
      "metadata": {
        "colab": {
          "base_uri": "https://localhost:8080/"
        },
        "id": "oahl9nK4uE3H",
        "outputId": "8faa23b8-8974-4403-a69e-0052a8eaeaf4"
      },
      "source": [
        "# - Stemming a document\n",
        "\n",
        "# with open(\"my_text.txt\") as file:\n",
        "# \tmy_lines_list = file.readlines()\n",
        "\n",
        "my_lines_list = ['He was running and eating at same time.', 'He has bad habit of swimming after playing long hours in the Sun.']\n",
        "\n",
        "porter = PorterStemmer()\n",
        "\n",
        "def stemSentence(sentence):\n",
        "    token_words = word_tokenize(sentence)\n",
        "    stem_sentence=[]\n",
        "    for word in token_words:\n",
        "        stem_sentence.append(porter.stem(word))\n",
        "        stem_sentence.append(\" \")\n",
        "    return \"\".join(stem_sentence)\n",
        "\n",
        "# Stemming the first line of the document\n",
        "stems = stemSentence(my_lines_list[0])\n",
        "print('Sentence: ', my_lines_list[0])\n",
        "print('Stemmed sentence: ', stems)\n",
        "\n",
        "# Stemming all lines of the document\n",
        "for line in my_lines_list:\n",
        "    stem_sentence = stemSentence(line)\n",
        "    print('Sentence: ', line)\n",
        "    print('Stemmed sentence: ', stem_sentence)"
      ],
      "execution_count": 8,
      "outputs": [
        {
          "output_type": "stream",
          "text": [
            "Sentence:  He was running and eating at same time.\n",
            "Stemmed sentence:  He wa run and eat at same time . \n",
            "Sentence:  He was running and eating at same time.\n",
            "Stemmed sentence:  He wa run and eat at same time . \n",
            "Sentence:  He has bad habit of swimming after playing long hours in the Sun.\n",
            "Stemmed sentence:  He ha bad habit of swim after play long hour in the sun . \n"
          ],
          "name": "stdout"
        }
      ]
    },
    {
      "cell_type": "markdown",
      "metadata": {
        "id": "aUaLlSPoq_2W"
      },
      "source": [
        "### **Lemmatization**  - WordNet Lemmatizer"
      ]
    },
    {
      "cell_type": "code",
      "metadata": {
        "colab": {
          "base_uri": "https://localhost:8080/"
        },
        "id": "WQQYLwtlRaEj",
        "outputId": "110c6c0e-b9cb-4183-99de-c67e8775c05d"
      },
      "source": [
        "# - Lemmatization - WordNet Lemmatizer without context\n",
        "\n",
        "# download wordnet\n",
        "nltk.download('wordnet')\n",
        "\n",
        "# instantiating the lemmaztizer object\n",
        "lemmatizer = WordNetLemmatizer()\n",
        "\n",
        "# Lemmatize a single word without context\n",
        "print(lemmatizer.lemmatize(\"bats\"))\n",
        "print(lemmatizer.lemmatize(\"feet\"))\n",
        "print(lemmatizer.lemmatize(\"are\"))\n",
        "\n",
        "# Lemmatize a single word with context\n",
        "print(lemmatizer.lemmatize(\"are\", pos='v'))\n",
        "print(lemmatizer.lemmatize(\"swimming\", pos='n'))\n",
        "print(lemmatizer.lemmatize(\"stripes\", pos='v')) \n",
        "print(lemmatizer.lemmatize(\"stripes\", pos='n'))"
      ],
      "execution_count": 9,
      "outputs": [
        {
          "output_type": "stream",
          "text": [
            "[nltk_data] Downloading package wordnet to /root/nltk_data...\n",
            "[nltk_data]   Package wordnet is already up-to-date!\n",
            "bat\n",
            "foot\n",
            "are\n",
            "be\n",
            "swimming\n",
            "strip\n",
            "stripe\n"
          ],
          "name": "stdout"
        }
      ]
    },
    {
      "cell_type": "code",
      "metadata": {
        "colab": {
          "base_uri": "https://localhost:8080/"
        },
        "id": "YILtwedsr0uu",
        "outputId": "18e528f4-f158-4f11-d3ab-7e2dadd99c52"
      },
      "source": [
        "# - Lemmatize a sentence\n",
        "sentence = \"He was running and eating at same time. He has bad habit of swimming after playing long hours in the Sun.\"\n",
        "\n",
        "# tokenize the sentence into a list of words without punctuations\n",
        "tokenizer = RegexpTokenizer(r'\\w+')\n",
        "sentence_words = tokenizer.tokenize(sentence)\n",
        "\n",
        "# without context\n",
        "print(\"{0:20}{1:20}\".format(\"Word\",\"Lemma\"))\n",
        "for word in sentence_words:\n",
        "    print (\"{0:20}{1:20}\".format(word, lemmatizer.lemmatize(word)))"
      ],
      "execution_count": 10,
      "outputs": [
        {
          "output_type": "stream",
          "text": [
            "Word                Lemma               \n",
            "He                  He                  \n",
            "was                 wa                  \n",
            "running             running             \n",
            "and                 and                 \n",
            "eating              eating              \n",
            "at                  at                  \n",
            "same                same                \n",
            "time                time                \n",
            "He                  He                  \n",
            "has                 ha                  \n",
            "bad                 bad                 \n",
            "habit               habit               \n",
            "of                  of                  \n",
            "swimming            swimming            \n",
            "after               after               \n",
            "playing             playing             \n",
            "long                long                \n",
            "hours               hour                \n",
            "in                  in                  \n",
            "the                 the                 \n",
            "Sun                 Sun                 \n"
          ],
          "name": "stdout"
        }
      ]
    },
    {
      "cell_type": "code",
      "metadata": {
        "colab": {
          "base_uri": "https://localhost:8080/"
        },
        "id": "BPjDnpfRst6p",
        "outputId": "8c45d73d-96ab-4e4f-d01f-260ada2d8136"
      },
      "source": [
        "# with context : parts-of-speech (POS) parameter = V\n",
        "for word in sentence_words:\n",
        "    print (\"{0:20}{1:20}\".format(word, lemmatizer.lemmatize(word, pos=\"v\")))"
      ],
      "execution_count": 11,
      "outputs": [
        {
          "output_type": "stream",
          "text": [
            "He                  He                  \n",
            "was                 be                  \n",
            "running             run                 \n",
            "and                 and                 \n",
            "eating              eat                 \n",
            "at                  at                  \n",
            "same                same                \n",
            "time                time                \n",
            "He                  He                  \n",
            "has                 have                \n",
            "bad                 bad                 \n",
            "habit               habit               \n",
            "of                  of                  \n",
            "swimming            swim                \n",
            "after               after               \n",
            "playing             play                \n",
            "long                long                \n",
            "hours               hours               \n",
            "in                  in                  \n",
            "the                 the                 \n",
            "Sun                 Sun                 \n"
          ],
          "name": "stdout"
        }
      ]
    }
  ]
}