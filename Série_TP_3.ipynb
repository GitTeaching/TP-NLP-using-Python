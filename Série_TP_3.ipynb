{
  "nbformat": 4,
  "nbformat_minor": 0,
  "metadata": {
    "colab": {
      "name": "Série TP 3.ipynb",
      "provenance": [],
      "collapsed_sections": [],
      "authorship_tag": "ABX9TyMVuUn1rmuryisk2QfEF5kA",
      "include_colab_link": true
    },
    "kernelspec": {
      "name": "python3",
      "display_name": "Python 3"
    }
  },
  "cells": [
    {
      "cell_type": "markdown",
      "metadata": {
        "id": "view-in-github",
        "colab_type": "text"
      },
      "source": [
        "<a href=\"https://colab.research.google.com/github/GitTeaching/TP-NLP-using-Python/blob/master/S%C3%A9rie_TP_3.ipynb\" target=\"_parent\"><img src=\"https://colab.research.google.com/assets/colab-badge.svg\" alt=\"Open In Colab\"/></a>"
      ]
    },
    {
      "cell_type": "markdown",
      "metadata": {
        "id": "WuJaXutx3OrV",
        "colab_type": "text"
      },
      "source": [
        "## Transcription lettre par lettre d'un mot d'une langue dans un autre alphabet"
      ]
    },
    {
      "cell_type": "code",
      "metadata": {
        "id": "bK-Yhixn3Dxs",
        "colab_type": "code",
        "colab": {}
      },
      "source": [
        "# Arabic Transliteration based on Buckwalter\n",
        "# dictionary source is buckwalter2unicode.py http://www.redhat.com/archives/fedoraextras-\n",
        "# commits/2007-June/msg03617.html\n",
        "\n",
        "buck2uni = {\"'\": u\"\\u0621\", # hamza-on-the-line\n",
        "            \"|\": u\"\\u0622\", # madda\n",
        "            \">\": u\"\\u0623\", # hamza-on-'alif\n",
        "            \"&\": u\"\\u0624\", # hamza-on-waaw\n",
        "            \"<\": u\"\\u0625\", # hamza-under-'alif\n",
        "            \"}\": u\"\\u0626\", # hamza-on-yaa'\n",
        "            \"A\": u\"\\u0627\", # bare 'alif\n",
        "            \"b\": u\"\\u0628\", # baa'\n",
        "            \"p\": u\"\\u0629\", # taa' marbuuTa\n",
        "            \"t\": u\"\\u062A\", # taa'\n",
        "            \"v\": u\"\\u062B\", # thaa'\n",
        "            \"j\": u\"\\u062C\", # jiim\n",
        "            \"H\": u\"\\u062D\", # Haa'\n",
        "            \"x\": u\"\\u062E\", # khaa'\n",
        "            \"d\": u\"\\u062F\", # daal\n",
        "            \"*\": u\"\\u0630\", # dhaal\n",
        "            \"r\": u\"\\u0631\", # raa'\n",
        "            \"z\": u\"\\u0632\", # zaay\n",
        "            \"s\": u\"\\u0633\", # siin\n",
        "            \"$\": u\"\\u0634\", # shiin\n",
        "            \"S\": u\"\\u0635\", # Saad\n",
        "            \"D\": u\"\\u0636\", # Daad\n",
        "            \"T\": u\"\\u0637\", # Taa'\n",
        "            \"Z\": u\"\\u0638\", # Zaa' (DHaa')\n",
        "            \"E\": u\"\\u0639\", # cayn\n",
        "            \"g\": u\"\\u063A\", # ghayn\n",
        "            \"_\": u\"\\u0640\", # taTwiil\n",
        "            \"f\": u\"\\u0641\", # faa'\n",
        "            \"q\": u\"\\u0642\", # qaaf\n",
        "            \"k\": u\"\\u0643\", # kaaf\n",
        "            \"l\": u\"\\u0644\", # laam\n",
        "            \"m\": u\"\\u0645\", # miim\n",
        "            \"n\": u\"\\u0646\", # nuun\n",
        "            \"h\": u\"\\u0647\", # haa'\n",
        "            \"w\": u\"\\u0648\", # waaw\n",
        "            \"Y\": u\"\\u0649\", # 'alif maqSuura\n",
        "            \"y\": u\"\\u064A\", # yaa'\n",
        "            \"F\": u\"\\u064B\", # fatHatayn\n",
        "            \"N\": u\"\\u064C\", # Dammatayn\n",
        "            \"K\": u\"\\u064D\", # kasratayn\n",
        "            \"a\": u\"\\u064E\", # fatHa\n",
        "            \"u\": u\"\\u064F\", # Damma\n",
        "            \"i\": u\"\\u0650\", # kasra\n",
        "            \"~\": u\"\\u0651\", # shaddah\n",
        "            \"o\": u\"\\u0652\", # sukuun\n",
        "            \"`\": u\"\\u0670\", # dagger 'alif\n",
        "            \"{\": u\"\\u0671\", # waSla\n",
        "        }"
      ],
      "execution_count": null,
      "outputs": []
    },
    {
      "cell_type": "code",
      "metadata": {
        "id": "KNYegLgC3RVR",
        "colab_type": "code",
        "colab": {}
      },
      "source": [
        "def transString(string, reverse=0):\n",
        "    '''Given a Unicode string, transliterate into Buckwalter. To go from\n",
        "    Buckwalter back to Unicode, set reverse=1'''\n",
        "    for k, v in buck2uni.items():\n",
        "        if not reverse:\n",
        "            string = string.replace(v, k)\n",
        "        else:\n",
        "            string = string.replace(k, v)\n",
        "    return string"
      ],
      "execution_count": null,
      "outputs": []
    },
    {
      "cell_type": "code",
      "metadata": {
        "id": "0iuP0iod3U4d",
        "colab_type": "code",
        "colab": {
          "base_uri": "https://localhost:8080/",
          "height": 34
        },
        "outputId": "258f91da-db11-4d59-88d3-28ccd5e4b797"
      },
      "source": [
        "print(transString('mrHbA', 1))"
      ],
      "execution_count": null,
      "outputs": [
        {
          "output_type": "stream",
          "text": [
            "مرحبا\n"
          ],
          "name": "stdout"
        }
      ]
    },
    {
      "cell_type": "markdown",
      "metadata": {
        "id": "DEIRvFYA3cpW",
        "colab_type": "text"
      },
      "source": [
        "### Le Soundex\n",
        "\n",
        "Le code soundex consiste pour chaque nom en une association d'une lettre suivie de trois chiffres : la lettre\n",
        "correspond à la re du nom, et les chiffres encodent les consonnes restantes. Les consonnes à prononciation\n",
        "similaire ont le même code, donc, par exemple, les lettres B, F, P et V sont toutes codées « 1 ». Les voyelles\n",
        "peuvent influencer le code d'une consonne, mais ne sont jamais codées directement (sauf bien sûr si c'est la\n",
        "première lettre du nom).\n"
      ]
    },
    {
      "cell_type": "code",
      "metadata": {
        "id": "jBsLc1cl3e3W",
        "colab_type": "code",
        "colab": {}
      },
      "source": [
        "# Make dictionary numerics to map each letter to its group\n",
        "groups = ['aehiouwy', #0\n",
        "          'bfpv', #1\n",
        "          'cgjkqsxz', #2\n",
        "          'dt', #3\n",
        "          'l', #4\n",
        "          'mn', #5\n",
        "          'r'] #6\n",
        "\n",
        "numerics = {'a': '0', 'c': '2', 'b': '1', 'e': '0', 'd': '3', 'g': '2', 'f': '1',\n",
        "'i': '0', 'h': '0', 'k': '2', 'j': '2', 'm': '5', 'l': '4', 'o': '0',\n",
        "'n': '5', 'q': '2', 'p': '1', 's': '2', 'r': '6', 'u': '0', 't': '3',\n",
        "'w': '0', 'v': '1', 'y': '0', 'x': '2', 'z': '2'}"
      ],
      "execution_count": null,
      "outputs": []
    },
    {
      "cell_type": "code",
      "metadata": {
        "id": "fnygmR0g3jpt",
        "colab_type": "code",
        "colab": {}
      },
      "source": [
        "def soundex(name):\n",
        "    \"\"\" soundex module conforming to Knuth's algorithm implementation 2000-12-24 by\n",
        "    Gregory Jorgensen public domain\n",
        "    \"\"\"\n",
        "    # digits holds the soundex values for the alphabet\n",
        "    sndx = ''\n",
        "    firstchar = name[0].upper()\n",
        "    name = name[1:] # le reste du mot\n",
        "    \n",
        "    # translate alpha chars in name to soundex digits\n",
        "    for c in name.lower():\n",
        "        d = numerics.get(c, '0')\n",
        "        print(d)\n",
        "        # duplicate consecutive soundex digits are skipped\n",
        "        if not sndx or (d != sndx[-1]):\n",
        "            sndx += d\n",
        "            \n",
        "    # replace first digit with first alpha character\n",
        "    sndx = firstchar + sndx\n",
        "    \n",
        "    # remove all 0s from the soundex code\n",
        "    sndx = sndx.replace('0','')\n",
        "    \n",
        "    # return soundex code padded to len characters\n",
        "    sndx = sndx + '0000'\n",
        "    print(sndx)\n",
        "    return sndx[:4]"
      ],
      "execution_count": null,
      "outputs": []
    },
    {
      "cell_type": "code",
      "metadata": {
        "id": "zf00PN-C3m9O",
        "colab_type": "code",
        "colab": {}
      },
      "source": [
        "def test() :\n",
        "    words =[ \"mohammed\", \"mohamad\", \"mohamd\", \"physique\", \"physik\", \"phosphore\", \"fosfor\", \"rupert\", \"rubert\" ]\n",
        "    for word in words :\n",
        "        code = soundex(word.lower())\n",
        "        print(\"%s %s\" % (code, word))"
      ],
      "execution_count": null,
      "outputs": []
    },
    {
      "cell_type": "code",
      "metadata": {
        "id": "khXhztdV3pOG",
        "colab_type": "code",
        "colab": {
          "base_uri": "https://localhost:8080/",
          "height": 1000
        },
        "outputId": "2ad52c26-a60d-4d1d-80bf-1a833cfe15fc"
      },
      "source": [
        "test()"
      ],
      "execution_count": null,
      "outputs": [
        {
          "output_type": "stream",
          "text": [
            "0\n",
            "0\n",
            "0\n",
            "5\n",
            "5\n",
            "0\n",
            "3\n",
            "M530000\n",
            "M530 mohammed\n",
            "0\n",
            "0\n",
            "0\n",
            "5\n",
            "0\n",
            "3\n",
            "M530000\n",
            "M530 mohamad\n",
            "0\n",
            "0\n",
            "0\n",
            "5\n",
            "3\n",
            "M530000\n",
            "M530 mohamd\n",
            "0\n",
            "0\n",
            "2\n",
            "0\n",
            "2\n",
            "0\n",
            "0\n",
            "P220000\n",
            "P220 physique\n",
            "0\n",
            "0\n",
            "2\n",
            "0\n",
            "2\n",
            "P220000\n",
            "P220 physik\n",
            "0\n",
            "0\n",
            "2\n",
            "1\n",
            "0\n",
            "0\n",
            "6\n",
            "0\n",
            "P2160000\n",
            "P216 phosphore\n",
            "0\n",
            "2\n",
            "1\n",
            "0\n",
            "6\n",
            "F2160000\n",
            "F216 fosfor\n",
            "0\n",
            "1\n",
            "0\n",
            "6\n",
            "3\n",
            "R1630000\n",
            "R163 rupert\n",
            "0\n",
            "1\n",
            "0\n",
            "6\n",
            "3\n",
            "R1630000\n",
            "R163 rubert\n"
          ],
          "name": "stdout"
        }
      ]
    }
  ]
}