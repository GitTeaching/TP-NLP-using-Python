{
  "nbformat": 4,
  "nbformat_minor": 0,
  "metadata": {
    "colab": {
      "name": "Série TP 4.ipynb",
      "provenance": [],
      "collapsed_sections": [],
      "authorship_tag": "ABX9TyODqzbW5rpU5buPgsLZ+JT1",
      "include_colab_link": true
    },
    "kernelspec": {
      "name": "python3",
      "display_name": "Python 3"
    }
  },
  "cells": [
    {
      "cell_type": "markdown",
      "metadata": {
        "id": "view-in-github",
        "colab_type": "text"
      },
      "source": [
        "<a href=\"https://colab.research.google.com/github/GitTeaching/TP-NLP-using-Python/blob/master/S%C3%A9rie_TP_4.ipynb\" target=\"_parent\"><img src=\"https://colab.research.google.com/assets/colab-badge.svg\" alt=\"Open In Colab\"/></a>"
      ]
    },
    {
      "cell_type": "markdown",
      "metadata": {
        "id": "b6D9eHx04oLT",
        "colab_type": "text"
      },
      "source": [
        "### Le Stemming"
      ]
    },
    {
      "cell_type": "code",
      "metadata": {
        "id": "HFf9hJsQ4hq2",
        "colab_type": "code",
        "colab": {}
      },
      "source": [
        "import re"
      ],
      "execution_count": null,
      "outputs": []
    },
    {
      "cell_type": "code",
      "metadata": {
        "id": "e4QRfxWk4u6t",
        "colab_type": "code",
        "colab": {}
      },
      "source": [
        "# la liste des suffixes\n",
        "SUFFIX_LIST=['ique', 'ation', 'tion', 'é', 'er','eur', 'ien', 'iste', 'able', 'ible', 'ard', 'phobe']"
      ],
      "execution_count": null,
      "outputs": []
    },
    {
      "cell_type": "code",
      "metadata": {
        "id": "mbKB6zxM4w91",
        "colab_type": "code",
        "colab": {}
      },
      "source": [
        "def stemming(word, suffix_list):\n",
        "    \"\"\" stem a word\"\"\"\n",
        "    stem_list =[]\n",
        "    for suffix in suffix_list:\n",
        "        if word.endswith(suffix):\n",
        "            stem = re.sub(suffix+'$','', word)\n",
        "            stem_list.append((word, stem, suffix))\n",
        "    return stem_list;"
      ],
      "execution_count": null,
      "outputs": []
    },
    {
      "cell_type": "code",
      "metadata": {
        "id": "0oXDqIv94zk1",
        "colab_type": "code",
        "colab": {
          "base_uri": "https://localhost:8080/",
          "height": 272
        },
        "outputId": "49906d75-e6b0-4096-bf29-6b0809a05451"
      },
      "source": [
        "text = \"\"\"Soundex est un algorithme phonétique d'indexation de noms par leur prononciation en anglais britannique\"\"\"\n",
        "    \n",
        "#tokenize\n",
        "list_word = text.split(' ')\n",
        "list_word = re.split(\"\\W+\", text)\n",
        "    \n",
        "#print stemme\n",
        "for word in list_word:\n",
        "    print(word, stemming(word, SUFFIX_LIST))"
      ],
      "execution_count": null,
      "outputs": [
        {
          "output_type": "stream",
          "text": [
            "Soundex []\n",
            "est []\n",
            "un []\n",
            "algorithme []\n",
            "phonétique [('phonétique', 'phonét', 'ique')]\n",
            "d []\n",
            "indexation [('indexation', 'index', 'ation'), ('indexation', 'indexa', 'tion')]\n",
            "de []\n",
            "noms []\n",
            "par []\n",
            "leur [('leur', 'l', 'eur')]\n",
            "prononciation [('prononciation', 'prononci', 'ation'), ('prononciation', 'prononcia', 'tion')]\n",
            "en []\n",
            "anglais []\n",
            "britannique [('britannique', 'britann', 'ique')]\n"
          ],
          "name": "stdout"
        }
      ]
    },
    {
      "cell_type": "markdown",
      "metadata": {
        "id": "k-xOMO4i6X4y",
        "colab_type": "text"
      },
      "source": [
        "## En utilisant la fonction « stemming » :\n",
        "- Segmenter en mots ( tokenize) un texte lu à partir d’un fichier texte.\n",
        "- Lemmatiser (stemming) les mots en ces mots d’origine.\n",
        "- Enrichir la liste des suffixes afin de lemmatiser les mots de votre texte.\n",
        "- Indexer les mots par leurs lemmes."
      ]
    },
    {
      "cell_type": "code",
      "metadata": {
        "id": "LwN273D13Jve",
        "colab_type": "code",
        "colab": {
          "base_uri": "https://localhost:8080/",
          "height": 340
        },
        "outputId": "2825db0f-ccf0-438b-b732-e9e90cd552d8"
      },
      "source": [
        "# Enrichir la liste des suffixes afin de lemmatiser les mots de votre texte\n",
        "SUFFIX_LIST=['ique', 'ation', 'tion', 'é', 'er','eur', 'ien', 'iste', 'able', 'ible', 'ard', 'phobe']\n",
        "\n",
        "def stemming(word, suffix_list):\n",
        "    \"\"\" stem a word\"\"\"\n",
        "    stem_list =[]\n",
        "    for suffix in suffix_list:\n",
        "        if word.endswith(suffix):\n",
        "            stem = re.sub(suffix+'$','', word)\n",
        "            stem_list.append([word, stem, suffix])\n",
        "    return stem_list;\n",
        "\n",
        "text = \"\"\"Soundex est un algorithme phonétique d'indexation de noms indexation par leur prononciation en anglais britannique\"\"\"\n",
        "    \n",
        "#tokenize\n",
        "list_word = text.split(' ')\n",
        "list_word = re.split(\"\\W+\", text)\n",
        "    \n",
        "#print stemme\n",
        "for word in list_word:\n",
        "    print(word, stemming(word, SUFFIX_LIST))\n",
        "\n",
        "# Indexer les mots par leurs lemmes\n",
        "index_dict = {}\n",
        "for word in list_word:\n",
        "    index_list = []\n",
        "    stem_list = stemming(word, SUFFIX_LIST)\n",
        "    if stem_list :\n",
        "      for i in range(0, len(stem_list)):  \n",
        "        index_list.append(stem_list[i][1])\n",
        "      index_dict[word] = index_list\n",
        "      \n",
        "print('\\nIndex des mots par leurs lemmes : ')\n",
        "print(index_dict)"
      ],
      "execution_count": null,
      "outputs": [
        {
          "output_type": "stream",
          "text": [
            "Soundex []\n",
            "est []\n",
            "un []\n",
            "algorithme []\n",
            "phonétique [['phonétique', 'phonét', 'ique']]\n",
            "d []\n",
            "indexation [['indexation', 'index', 'ation'], ['indexation', 'indexa', 'tion']]\n",
            "de []\n",
            "noms []\n",
            "indexation [['indexation', 'index', 'ation'], ['indexation', 'indexa', 'tion']]\n",
            "par []\n",
            "leur [['leur', 'l', 'eur']]\n",
            "prononciation [['prononciation', 'prononci', 'ation'], ['prononciation', 'prononcia', 'tion']]\n",
            "en []\n",
            "anglais []\n",
            "britannique [['britannique', 'britann', 'ique']]\n",
            "\n",
            "Index des mots par leurs lemmes : \n",
            "{'phonétique': ['phonét'], 'indexation': ['index', 'indexa'], 'leur': ['l'], 'prononciation': ['prononci', 'prononcia'], 'britannique': ['britann']}\n"
          ],
          "name": "stdout"
        }
      ]
    }
  ]
}