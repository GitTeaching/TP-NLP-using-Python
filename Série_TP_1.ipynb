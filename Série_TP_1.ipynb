{
  "nbformat": 4,
  "nbformat_minor": 0,
  "metadata": {
    "colab": {
      "name": "Série TP 1.ipynb",
      "provenance": [],
      "collapsed_sections": [],
      "authorship_tag": "ABX9TyPUOKLVo4chA9W4ETAYhDXi",
      "include_colab_link": true
    },
    "kernelspec": {
      "name": "python3",
      "display_name": "Python 3"
    }
  },
  "cells": [
    {
      "cell_type": "markdown",
      "metadata": {
        "id": "view-in-github",
        "colab_type": "text"
      },
      "source": [
        "<a href=\"https://colab.research.google.com/github/GitTeaching/TP-NLP-using-Python/blob/master/S%C3%A9rie_TP_1.ipynb\" target=\"_parent\"><img src=\"https://colab.research.google.com/assets/colab-badge.svg\" alt=\"Open In Colab\"/></a>"
      ]
    },
    {
      "cell_type": "code",
      "metadata": {
        "id": "L27z5_Bmv24D",
        "colab_type": "code",
        "colab": {
          "base_uri": "https://localhost:8080/",
          "height": 34
        },
        "outputId": "36e55489-f57c-44e2-a265-2efa0a3edc48"
      },
      "source": [
        "# déclaration de codage des caractère, utiliser souvent UTF-8, pour prendre en charge toutes les langues.\n",
        "print (\"Salam Alykom\")"
      ],
      "execution_count": null,
      "outputs": [
        {
          "output_type": "stream",
          "text": [
            "Salam Alykom\n"
          ],
          "name": "stdout"
        }
      ]
    },
    {
      "cell_type": "code",
      "metadata": {
        "id": "da9eotUhwDmA",
        "colab_type": "code",
        "colab": {
          "base_uri": "https://localhost:8080/",
          "height": 51
        },
        "outputId": "a13ccfea-9134-4e98-bcc1-34d1e337bff5"
      },
      "source": [
        "# lire entrée utilisateur\n",
        "input1 = input()\n",
        "print(\"User input is : \", input1)"
      ],
      "execution_count": null,
      "outputs": [
        {
          "output_type": "stream",
          "text": [
            "Master 1 ISIL\n",
            "User input is :  Master 1 ISIL\n"
          ],
          "name": "stdout"
        }
      ]
    },
    {
      "cell_type": "code",
      "metadata": {
        "id": "bbrMayU_wOvB",
        "colab_type": "code",
        "colab": {
          "base_uri": "https://localhost:8080/",
          "height": 68
        },
        "outputId": "f0ad487a-a288-4fd4-e19d-28fd3534096f"
      },
      "source": [
        "# Déclaration des variables\n",
        "# pas de déclaration explicite\n",
        "# il suffit d'affecter une valeur pour spécifier le type d'une variable\n",
        "\n",
        "age = 125 # entier\n",
        "print(\"type de age\", type(age))\n",
        "\n",
        "salaire = 3.14\n",
        "print(\"type de salaire\", type(salaire))\n",
        "\n",
        "name = \"Ahmed\"\n",
        "print(\"type de name\", type(name))"
      ],
      "execution_count": null,
      "outputs": [
        {
          "output_type": "stream",
          "text": [
            "type de age <class 'int'>\n",
            "type de salaire <class 'float'>\n",
            "type de name <class 'str'>\n"
          ],
          "name": "stdout"
        }
      ]
    },
    {
      "cell_type": "code",
      "metadata": {
        "id": "690oxzYXwUgh",
        "colab_type": "code",
        "colab": {
          "base_uri": "https://localhost:8080/",
          "height": 34
        },
        "outputId": "f0d61be9-179a-4ba1-a7b2-96e5214358f9"
      },
      "source": [
        "#substitution\n",
        "s2 = \"I am %s\" %name\n",
        "s3 = \"I am %d old\" %age\n",
        "print (s2, s3)"
      ],
      "execution_count": null,
      "outputs": [
        {
          "output_type": "stream",
          "text": [
            "I am Ahmed I am 125 old\n"
          ],
          "name": "stdout"
        }
      ]
    },
    {
      "cell_type": "code",
      "metadata": {
        "id": "NljibaGbwdNI",
        "colab_type": "code",
        "colab": {
          "base_uri": "https://localhost:8080/",
          "height": 51
        },
        "outputId": "f7b5e19d-2edd-4d88-fb1d-27e792484961"
      },
      "source": [
        "# listes\n",
        "liste = [1,2,31,4]\n",
        "print (\"type de ls\", type(liste))\n",
        "print (liste)"
      ],
      "execution_count": null,
      "outputs": [
        {
          "output_type": "stream",
          "text": [
            "type de ls <class 'list'>\n",
            "[1, 2, 31, 4]\n"
          ],
          "name": "stdout"
        }
      ]
    },
    {
      "cell_type": "code",
      "metadata": {
        "id": "x0mwUY2-wgHT",
        "colab_type": "code",
        "colab": {
          "base_uri": "https://localhost:8080/",
          "height": 34
        },
        "outputId": "7092abda-1a6c-46bc-b2da-9663629d5f9c"
      },
      "source": [
        "# ajouter in element\n",
        "liste.append(5)\n",
        "print (liste)"
      ],
      "execution_count": null,
      "outputs": [
        {
          "output_type": "stream",
          "text": [
            "[1, 2, 31, 4, 5]\n"
          ],
          "name": "stdout"
        }
      ]
    },
    {
      "cell_type": "code",
      "metadata": {
        "id": "Et0GOhVowi0Q",
        "colab_type": "code",
        "colab": {
          "base_uri": "https://localhost:8080/",
          "height": 34
        },
        "outputId": "023e76cb-0915-4e3e-b1b4-abac9253405d"
      },
      "source": [
        "# liste de mots\n",
        "wordlist = [\"I\", \"am\", \"learning\", \"english\"]\n",
        "print (wordlist)"
      ],
      "execution_count": null,
      "outputs": [
        {
          "output_type": "stream",
          "text": [
            "['I', 'am', 'learning', 'english']\n"
          ],
          "name": "stdout"
        }
      ]
    },
    {
      "cell_type": "code",
      "metadata": {
        "id": "2DLFetL1wl0Q",
        "colab_type": "code",
        "colab": {
          "base_uri": "https://localhost:8080/",
          "height": 136
        },
        "outputId": "b43baf48-9767-45a6-f7a1-e68dfe8617c0"
      },
      "source": [
        "# les dictionnaires\n",
        "thisdict = {\n",
        "  \"brand\": \"Ford\",\n",
        "  \"model\": \"Mustang\",\n",
        "  \"year\": 1964\n",
        "}\n",
        "print(thisdict)\n",
        "print(thisdict.keys())\n",
        "print(thisdict.values())\n",
        "print(thisdict[\"brand\"])\n",
        "for x, y in thisdict.items():\n",
        "  print(x, y)"
      ],
      "execution_count": null,
      "outputs": [
        {
          "output_type": "stream",
          "text": [
            "{'brand': 'Ford', 'model': 'Mustang', 'year': 1964}\n",
            "dict_keys(['brand', 'model', 'year'])\n",
            "dict_values(['Ford', 'Mustang', 1964])\n",
            "Ford\n",
            "brand Ford\n",
            "model Mustang\n",
            "year 1964\n"
          ],
          "name": "stdout"
        }
      ]
    },
    {
      "cell_type": "code",
      "metadata": {
        "id": "E3Yql--dws__",
        "colab_type": "code",
        "colab": {
          "base_uri": "https://localhost:8080/",
          "height": 34
        },
        "outputId": "88fe8948-b47e-4f23-9194-fd00e02d86ae"
      },
      "source": [
        "# structure de controle\n",
        "a = 15\n",
        "if a > 15:  \n",
        "    #attention aux tabulations\n",
        "    print ('a supérieur à 15')\n",
        "elif a <= 15 and a >= 10:\n",
        "    print ('a entre 10 et 15')\n",
        "else:\n",
        "    print ('a est intfieur à 10')"
      ],
      "execution_count": null,
      "outputs": [
        {
          "output_type": "stream",
          "text": [
            "a entre 10 et 15\n"
          ],
          "name": "stdout"
        }
      ]
    },
    {
      "cell_type": "code",
      "metadata": {
        "id": "cdPhJT-0wxSI",
        "colab_type": "code",
        "colab": {
          "base_uri": "https://localhost:8080/",
          "height": 34
        },
        "outputId": "fc443613-bdc4-41e6-8f49-72d62801ed25"
      },
      "source": [
        "# tester si un element appartient à une liste\n",
        "a = 5\n",
        "if a in liste:\n",
        "    print (\"a existe dans la liste\")"
      ],
      "execution_count": null,
      "outputs": [
        {
          "output_type": "stream",
          "text": [
            "a existe dans la liste\n"
          ],
          "name": "stdout"
        }
      ]
    },
    {
      "cell_type": "code",
      "metadata": {
        "id": "no_ETInNwz4S",
        "colab_type": "code",
        "colab": {
          "base_uri": "https://localhost:8080/",
          "height": 85
        },
        "outputId": "eda5471c-6658-4906-b4d1-5d3998067bf7"
      },
      "source": [
        "# les boucles\n",
        "for word in wordlist:\n",
        "    print (word)"
      ],
      "execution_count": null,
      "outputs": [
        {
          "output_type": "stream",
          "text": [
            "I\n",
            "am\n",
            "learning\n",
            "english\n"
          ],
          "name": "stdout"
        }
      ]
    },
    {
      "cell_type": "code",
      "metadata": {
        "id": "8tgb_CqRw6JA",
        "colab_type": "code",
        "colab": {
          "base_uri": "https://localhost:8080/",
          "height": 34
        },
        "outputId": "4f524ea9-1b6d-4f9f-a4e0-ba304659fdb6"
      },
      "source": [
        "# boucle et tests\n",
        "# calculer le nombre d'occurence d'un caractère dans une chaine de caractère\n",
        "chaine = \"Le TAL est l’ensemble des méthodes et des programmes qui permettent\"\n",
        "caractere= \"e\"\n",
        "cpt = 0\n",
        "for c in chaine:\n",
        "    if c == caractere:\n",
        "        cpt += 1\n",
        "print(\"le caractère %s existe %d fois\"%(caractere, cpt))"
      ],
      "execution_count": null,
      "outputs": [
        {
          "output_type": "stream",
          "text": [
            "le caractère e existe 13 fois\n"
          ],
          "name": "stdout"
        }
      ]
    }
  ]
}